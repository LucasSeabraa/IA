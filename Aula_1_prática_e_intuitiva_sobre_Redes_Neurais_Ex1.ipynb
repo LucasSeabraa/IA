{
  "cells": [
    {
      "cell_type": "markdown",
      "metadata": {
        "id": "Qa8PGyuUS4RE"
      },
      "source": [
        "Um exemplo simples em Python que demonstra como um único neurônio pode aprender. O código vai incluir:\n",
        "\n",
        "1. Um dataset fictício.\n",
        "\n",
        "2. A possibilidade de escolher entre diferentes funções de ativação (Sigmóide, ReLU e Tangente Hiperbólica).\n",
        "\n",
        "3. Um loop de treinamento onde o neurônio ajusta seus pesos para minimizar o erro."
      ]
    },
    {
      "cell_type": "code",
      "execution_count": 1,
      "metadata": {
        "id": "QxfKr-cQeKqs"
      },
      "outputs": [],
      "source": [
        "import numpy as np\n",
        "import matplotlib.pyplot as plt\n",
        "\n",
        "# Funções de ativação\n",
        "def sigmoid(x):\n",
        "    return 1 / (1 + np.exp(-x))\n",
        "\n",
        "def relu(x):\n",
        "    return np.maximum(0, x)\n",
        "\n",
        "def tanh(x):\n",
        "    return np.tanh(x)\n",
        "\n",
        "# Derivadas das funções de ativação (para o gradiente)\n",
        "def sigmoid_derivative(x):\n",
        "    return sigmoid(x) * (1 - sigmoid(x))\n",
        "\n",
        "def relu_derivative(x):\n",
        "    return np.where(x > 0, 1, 0)\n",
        "\n",
        "def tanh_derivative(x):\n",
        "    return 1 - np.tanh(x)**2"
      ]
    },
    {
      "cell_type": "code",
      "execution_count": 2,
      "metadata": {
        "id": "HzYNs_YNSpOn",
        "colab": {
          "base_uri": "https://localhost:8080/"
        },
        "outputId": "b40360b7-47ef-4883-f761-ebe532801df3"
      },
      "outputs": [
        {
          "output_type": "stream",
          "name": "stdout",
          "text": [
            "Época 0, Erro: 0.17546525262263657\n",
            "Época 1000, Erro: 0.07152962121241238\n",
            "Época 2000, Erro: 0.039473458124325185\n",
            "Época 3000, Erro: 0.025846142161248645\n",
            "Época 4000, Erro: 0.018734837569662263\n",
            "Época 5000, Erro: 0.01449572131515371\n",
            "Época 6000, Erro: 0.011727205499246834\n",
            "Época 7000, Erro: 0.009796625288945697\n",
            "Época 8000, Erro: 0.008382845961053204\n",
            "Época 9000, Erro: 0.00730771105729081\n",
            "Época 10000, Erro: 0.006465302159781511\n",
            "Época 11000, Erro: 0.005789074789620553\n",
            "Época 12000, Erro: 0.005235300108021518\n",
            "Época 13000, Erro: 0.004774152190655284\n",
            "Época 14000, Erro: 0.0043846406088860704\n",
            "Época 15000, Erro: 0.0040515935016023205\n",
            "Época 16000, Erro: 0.003763789536453046\n",
            "Época 17000, Erro: 0.0035127614638097693\n",
            "Época 18000, Erro: 0.0032920069263624933\n",
            "Época 19000, Erro: 0.003096454274509011\n",
            "Época 20000, Erro: 0.0029220926290954045\n",
            "Época 21000, Erro: 0.0027657104198534586\n",
            "Época 22000, Erro: 0.0026247071879775406\n",
            "Época 23000, Erro: 0.002496955876879224\n",
            "Época 24000, Erro: 0.002380700553929391\n",
            "Época 25000, Erro: 0.0022744794102850423\n",
            "Época 26000, Erro: 0.002177066068685694\n",
            "Época 27000, Erro: 0.0020874243349480854\n",
            "Época 28000, Erro: 0.0020046729470269784\n",
            "Época 29000, Erro: 0.0019280578461510949\n",
            "Época 30000, Erro: 0.0018569301689064217\n",
            "Época 31000, Erro: 0.0017907286341835185\n",
            "Época 32000, Erro: 0.0017289653378597504\n",
            "Época 33000, Erro: 0.001671214212840234\n",
            "Época 34000, Erro: 0.0016171015907858858\n",
            "Época 35000, Erro: 0.001566298433700412\n",
            "Época 36000, Erro: 0.0015185139017674018\n",
            "Época 37000, Erro: 0.0014734899976707203\n",
            "Época 38000, Erro: 0.001430997083624107\n",
            "Época 39000, Erro: 0.0013908301101384082\n",
            "Época 40000, Erro: 0.001352805428525022\n",
            "Época 41000, Erro: 0.0013167580847134926\n",
            "Época 42000, Erro: 0.0012825395119435647\n",
            "Época 43000, Erro: 0.0012500155556018433\n",
            "Época 44000, Erro: 0.0012190647759013837\n",
            "Época 45000, Erro: 0.001189576983990953\n",
            "Época 46000, Erro: 0.001161451974993189\n",
            "Época 47000, Erro: 0.0011345984278349434\n",
            "Época 48000, Erro: 0.0011089329468784274\n",
            "Época 49000, Erro: 0.0010843792245412067\n",
            "Época 50000, Erro: 0.0010608673075038497\n",
            "Época 51000, Erro: 0.0010383329519002484\n",
            "Época 52000, Erro: 0.001016717055186864\n",
            "Época 53000, Erro: 0.0009959651542891816\n",
            "Época 54000, Erro: 0.000976026981202095\n",
            "Época 55000, Erro: 0.0009568560685352845\n",
            "Época 56000, Erro: 0.000938409398592828\n",
            "Época 57000, Erro: 0.0009206470904982503\n",
            "Época 58000, Erro: 0.0009035321206508435\n",
            "Época 59000, Erro: 0.0008870300724538205\n"
          ]
        }
      ],
      "source": [
        "\n",
        "\n",
        "# Dataset fictício (problema de classificação binária)\n",
        "X = np.array([[0, 0], [0, 1], [1, 0], [1, 1]])  # Entradas\n",
        "y = np.array([[0], [1], [1], [1]])              # Saídas esperadas (OR)\n",
        "\n",
        "# Hiperparâmetros\n",
        "learning_rate = 0.05\n",
        "epochs = 60000\n",
        "\n",
        "# Inicialização dos pesos e viés\n",
        "np.random.seed(42)\n",
        "weights = np.random.randn(2, 1)\n",
        "bias = np.random.randn()\n",
        "\n",
        "# Escolha da função de ativação\n",
        "activation_function = sigmoid\n",
        "activation_derivative = sigmoid_derivative\n",
        "\n",
        "# Treinamento do neurônio\n",
        "errors = []\n",
        "for epoch in range(epochs):\n",
        "    # Forward pass\n",
        "    weighted_sum = np.dot(X, weights) + bias\n",
        "    output = activation_function(weighted_sum)\n",
        "\n",
        "    # Cálculo do erro (erro quadrático médio)\n",
        "    error = y - output\n",
        "    errors.append(np.mean(np.square(error)))\n",
        "\n",
        "    # Backpropagation (ajuste dos pesos e viés)\n",
        "    d_error = -2 * error / len(X)  # Derivada do erro quadrático\n",
        "    d_output = activation_derivative(weighted_sum)\n",
        "    gradient = d_error * d_output\n",
        "\n",
        "    weights -= learning_rate * np.dot(X.T, gradient)\n",
        "    bias -= learning_rate * np.sum(gradient)\n",
        "\n",
        "    # Exibir progresso a cada 1000 épocas\n",
        "    if epoch % 1000 == 0:\n",
        "        print(f\"Época {epoch}, Erro: {errors[-1]}\")\n"
      ]
    },
    {
      "cell_type": "code",
      "execution_count": 3,
      "metadata": {
        "colab": {
          "base_uri": "https://localhost:8080/",
          "height": 578
        },
        "id": "c7X5a5NmTCyh",
        "outputId": "582f0e48-18db-49e6-b84e-854dc39f70ca"
      },
      "outputs": [
        {
          "output_type": "display_data",
          "data": {
            "text/plain": [
              "<Figure size 640x480 with 1 Axes>"
            ],
            "image/png": "[encoded data removed]"
          },
          "metadata": {}
        },
        {
          "output_type": "stream",
          "name": "stdout",
          "text": [
            "\n",
            "Teste do neurônio treinado:\n",
            "Entrada: [0 0], Saída esperada: [0], Saída do neurônio: [0.04419166]\n",
            "Entrada: [0 1], Saída esperada: [1], Saída do neurônio: [0.9723271]\n",
            "Entrada: [1 0], Saída esperada: [1], Saída do neurônio: [0.97232795]\n",
            "Entrada: [1 1], Saída esperada: [1], Saída do neurônio: [0.99996255]\n"
          ]
        }
      ],
      "source": [
        "# Plot do erro ao longo do treinamento\n",
        "plt.plot(range(epochs), errors)\n",
        "plt.title(\"Erro ao longo do treinamento\")\n",
        "plt.xlabel(\"Época\")\n",
        "plt.ylabel(\"Erro\")\n",
        "plt.show()\n",
        "\n",
        "# Teste do neurônio treinado\n",
        "print(\"\\nTeste do neurônio treinado:\")\n",
        "for i in range(len(X)):\n",
        "    weighted_sum = np.dot(X[i], weights) + bias\n",
        "    output = activation_function(weighted_sum)\n",
        "    print(f\"Entrada: {X[i]}, Saída esperada: {y[i]}, Saída do neurônio: {output}\")"
      ]
    }
  ],
  "metadata": {
    "colab": {
      "provenance": [],
      "toc_visible": true
    },
    "kernelspec": {
      "display_name": "Python 3 (ipykernel)",
      "language": "python",
      "name": "python3"
    },
    "language_info": {
      "codemirror_mode": {
        "name": "ipython",
        "version": 3
      },
      "file_extension": ".py",
      "mimetype": "text/x-python",
      "name": "python",
      "nbconvert_exporter": "python",
      "pygments_lexer": "ipython3",
      "version": "3.12.3"
    }
  },
  "nbformat": 4,
  "nbformat_minor": 0
}